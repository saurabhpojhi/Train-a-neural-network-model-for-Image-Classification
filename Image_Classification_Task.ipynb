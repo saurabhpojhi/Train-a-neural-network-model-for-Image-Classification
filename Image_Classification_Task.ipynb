{
  "nbformat": 4,
  "nbformat_minor": 0,
  "metadata": {
    "colab": {
      "name": "Image_Classification_Task.ipynb",
      "provenance": [],
      "collapsed_sections": [],
      "toc_visible": true
    },
    "kernelspec": {
      "name": "python3",
      "display_name": "Python 3"
    },
    "language_info": {
      "name": "python"
    },
    "widgets": {
      "application/vnd.jupyter.widget-state+json": {
        "dd814da10bc3494a8128e712b708592a": {
          "model_module": "@jupyter-widgets/controls",
          "model_name": "HBoxModel",
          "model_module_version": "1.5.0",
          "state": {
            "_view_name": "HBoxView",
            "_dom_classes": [],
            "_model_name": "HBoxModel",
            "_view_module": "@jupyter-widgets/controls",
            "_model_module_version": "1.5.0",
            "_view_count": null,
            "_view_module_version": "1.5.0",
            "box_style": "",
            "layout": "IPY_MODEL_335b31a3566640b1a0ca2a0f081cce91",
            "_model_module": "@jupyter-widgets/controls",
            "children": [
              "IPY_MODEL_f5586fa6ea484e3c9d87d7e995aec48a",
              "IPY_MODEL_58f693ca877848b3926aee5c11820114",
              "IPY_MODEL_95423b9cd6aa41fcbb29c826e68f2b04"
            ]
          }
        },
        "335b31a3566640b1a0ca2a0f081cce91": {
          "model_module": "@jupyter-widgets/base",
          "model_name": "LayoutModel",
          "model_module_version": "1.2.0",
          "state": {
            "_view_name": "LayoutView",
            "grid_template_rows": null,
            "right": null,
            "justify_content": null,
            "_view_module": "@jupyter-widgets/base",
            "overflow": null,
            "_model_module_version": "1.2.0",
            "_view_count": null,
            "flex_flow": null,
            "width": null,
            "min_width": null,
            "border": null,
            "align_items": null,
            "bottom": null,
            "_model_module": "@jupyter-widgets/base",
            "top": null,
            "grid_column": null,
            "overflow_y": null,
            "overflow_x": null,
            "grid_auto_flow": null,
            "grid_area": null,
            "grid_template_columns": null,
            "flex": null,
            "_model_name": "LayoutModel",
            "justify_items": null,
            "grid_row": null,
            "max_height": null,
            "align_content": null,
            "visibility": null,
            "align_self": null,
            "height": null,
            "min_height": null,
            "padding": null,
            "grid_auto_rows": null,
            "grid_gap": null,
            "max_width": null,
            "order": null,
            "_view_module_version": "1.2.0",
            "grid_template_areas": null,
            "object_position": null,
            "object_fit": null,
            "grid_auto_columns": null,
            "margin": null,
            "display": null,
            "left": null
          }
        },
        "f5586fa6ea484e3c9d87d7e995aec48a": {
          "model_module": "@jupyter-widgets/controls",
          "model_name": "HTMLModel",
          "model_module_version": "1.5.0",
          "state": {
            "_view_name": "HTMLView",
            "style": "IPY_MODEL_8393d950685d4bf18106307ebea8438e",
            "_dom_classes": [],
            "description": "",
            "_model_name": "HTMLModel",
            "placeholder": "​",
            "_view_module": "@jupyter-widgets/controls",
            "_model_module_version": "1.5.0",
            "value": "100%",
            "_view_count": null,
            "_view_module_version": "1.5.0",
            "description_tooltip": null,
            "_model_module": "@jupyter-widgets/controls",
            "layout": "IPY_MODEL_58328f2578d5455a9326363f3dfd91fe"
          }
        },
        "58f693ca877848b3926aee5c11820114": {
          "model_module": "@jupyter-widgets/controls",
          "model_name": "FloatProgressModel",
          "model_module_version": "1.5.0",
          "state": {
            "_view_name": "ProgressView",
            "style": "IPY_MODEL_b17f972373b240d0abf7c69b93b533be",
            "_dom_classes": [],
            "description": "",
            "_model_name": "FloatProgressModel",
            "bar_style": "success",
            "max": 102530333,
            "_view_module": "@jupyter-widgets/controls",
            "_model_module_version": "1.5.0",
            "value": 102530333,
            "_view_count": null,
            "_view_module_version": "1.5.0",
            "orientation": "horizontal",
            "min": 0,
            "description_tooltip": null,
            "_model_module": "@jupyter-widgets/controls",
            "layout": "IPY_MODEL_20254a76dd0b4d3dafd716733dc7d552"
          }
        },
        "95423b9cd6aa41fcbb29c826e68f2b04": {
          "model_module": "@jupyter-widgets/controls",
          "model_name": "HTMLModel",
          "model_module_version": "1.5.0",
          "state": {
            "_view_name": "HTMLView",
            "style": "IPY_MODEL_6099520d2e0943d4b9b19b3a7d8c89a2",
            "_dom_classes": [],
            "description": "",
            "_model_name": "HTMLModel",
            "placeholder": "​",
            "_view_module": "@jupyter-widgets/controls",
            "_model_module_version": "1.5.0",
            "value": " 97.8M/97.8M [00:01&lt;00:00, 108MB/s]",
            "_view_count": null,
            "_view_module_version": "1.5.0",
            "description_tooltip": null,
            "_model_module": "@jupyter-widgets/controls",
            "layout": "IPY_MODEL_43b9740510674027986b901b3638c4aa"
          }
        },
        "8393d950685d4bf18106307ebea8438e": {
          "model_module": "@jupyter-widgets/controls",
          "model_name": "DescriptionStyleModel",
          "model_module_version": "1.5.0",
          "state": {
            "_view_name": "StyleView",
            "_model_name": "DescriptionStyleModel",
            "description_width": "",
            "_view_module": "@jupyter-widgets/base",
            "_model_module_version": "1.5.0",
            "_view_count": null,
            "_view_module_version": "1.2.0",
            "_model_module": "@jupyter-widgets/controls"
          }
        },
        "58328f2578d5455a9326363f3dfd91fe": {
          "model_module": "@jupyter-widgets/base",
          "model_name": "LayoutModel",
          "model_module_version": "1.2.0",
          "state": {
            "_view_name": "LayoutView",
            "grid_template_rows": null,
            "right": null,
            "justify_content": null,
            "_view_module": "@jupyter-widgets/base",
            "overflow": null,
            "_model_module_version": "1.2.0",
            "_view_count": null,
            "flex_flow": null,
            "width": null,
            "min_width": null,
            "border": null,
            "align_items": null,
            "bottom": null,
            "_model_module": "@jupyter-widgets/base",
            "top": null,
            "grid_column": null,
            "overflow_y": null,
            "overflow_x": null,
            "grid_auto_flow": null,
            "grid_area": null,
            "grid_template_columns": null,
            "flex": null,
            "_model_name": "LayoutModel",
            "justify_items": null,
            "grid_row": null,
            "max_height": null,
            "align_content": null,
            "visibility": null,
            "align_self": null,
            "height": null,
            "min_height": null,
            "padding": null,
            "grid_auto_rows": null,
            "grid_gap": null,
            "max_width": null,
            "order": null,
            "_view_module_version": "1.2.0",
            "grid_template_areas": null,
            "object_position": null,
            "object_fit": null,
            "grid_auto_columns": null,
            "margin": null,
            "display": null,
            "left": null
          }
        },
        "b17f972373b240d0abf7c69b93b533be": {
          "model_module": "@jupyter-widgets/controls",
          "model_name": "ProgressStyleModel",
          "model_module_version": "1.5.0",
          "state": {
            "_view_name": "StyleView",
            "_model_name": "ProgressStyleModel",
            "description_width": "",
            "_view_module": "@jupyter-widgets/base",
            "_model_module_version": "1.5.0",
            "_view_count": null,
            "_view_module_version": "1.2.0",
            "bar_color": null,
            "_model_module": "@jupyter-widgets/controls"
          }
        },
        "20254a76dd0b4d3dafd716733dc7d552": {
          "model_module": "@jupyter-widgets/base",
          "model_name": "LayoutModel",
          "model_module_version": "1.2.0",
          "state": {
            "_view_name": "LayoutView",
            "grid_template_rows": null,
            "right": null,
            "justify_content": null,
            "_view_module": "@jupyter-widgets/base",
            "overflow": null,
            "_model_module_version": "1.2.0",
            "_view_count": null,
            "flex_flow": null,
            "width": null,
            "min_width": null,
            "border": null,
            "align_items": null,
            "bottom": null,
            "_model_module": "@jupyter-widgets/base",
            "top": null,
            "grid_column": null,
            "overflow_y": null,
            "overflow_x": null,
            "grid_auto_flow": null,
            "grid_area": null,
            "grid_template_columns": null,
            "flex": null,
            "_model_name": "LayoutModel",
            "justify_items": null,
            "grid_row": null,
            "max_height": null,
            "align_content": null,
            "visibility": null,
            "align_self": null,
            "height": null,
            "min_height": null,
            "padding": null,
            "grid_auto_rows": null,
            "grid_gap": null,
            "max_width": null,
            "order": null,
            "_view_module_version": "1.2.0",
            "grid_template_areas": null,
            "object_position": null,
            "object_fit": null,
            "grid_auto_columns": null,
            "margin": null,
            "display": null,
            "left": null
          }
        },
        "6099520d2e0943d4b9b19b3a7d8c89a2": {
          "model_module": "@jupyter-widgets/controls",
          "model_name": "DescriptionStyleModel",
          "model_module_version": "1.5.0",
          "state": {
            "_view_name": "StyleView",
            "_model_name": "DescriptionStyleModel",
            "description_width": "",
            "_view_module": "@jupyter-widgets/base",
            "_model_module_version": "1.5.0",
            "_view_count": null,
            "_view_module_version": "1.2.0",
            "_model_module": "@jupyter-widgets/controls"
          }
        },
        "43b9740510674027986b901b3638c4aa": {
          "model_module": "@jupyter-widgets/base",
          "model_name": "LayoutModel",
          "model_module_version": "1.2.0",
          "state": {
            "_view_name": "LayoutView",
            "grid_template_rows": null,
            "right": null,
            "justify_content": null,
            "_view_module": "@jupyter-widgets/base",
            "overflow": null,
            "_model_module_version": "1.2.0",
            "_view_count": null,
            "flex_flow": null,
            "width": null,
            "min_width": null,
            "border": null,
            "align_items": null,
            "bottom": null,
            "_model_module": "@jupyter-widgets/base",
            "top": null,
            "grid_column": null,
            "overflow_y": null,
            "overflow_x": null,
            "grid_auto_flow": null,
            "grid_area": null,
            "grid_template_columns": null,
            "flex": null,
            "_model_name": "LayoutModel",
            "justify_items": null,
            "grid_row": null,
            "max_height": null,
            "align_content": null,
            "visibility": null,
            "align_self": null,
            "height": null,
            "min_height": null,
            "padding": null,
            "grid_auto_rows": null,
            "grid_gap": null,
            "max_width": null,
            "order": null,
            "_view_module_version": "1.2.0",
            "grid_template_areas": null,
            "object_position": null,
            "object_fit": null,
            "grid_auto_columns": null,
            "margin": null,
            "display": null,
            "left": null
          }
        }
      }
    },
    "accelerator": "GPU"
  },
  "cells": [
    {
      "cell_type": "code",
      "metadata": {
        "id": "FEpRBFAEvH2h",
        "colab": {
          "base_uri": "https://localhost:8080/"
        },
        "outputId": "ba565cc4-5d8f-4c7b-ec97-3bf482903c96"
      },
      "source": [
        "from google.colab import drive\n",
        "drive.mount('/content/drive')"
      ],
      "execution_count": null,
      "outputs": [
        {
          "output_type": "stream",
          "name": "stdout",
          "text": [
            "Drive already mounted at /content/drive; to attempt to forcibly remount, call drive.mount(\"/content/drive\", force_remount=True).\n"
          ]
        }
      ]
    },
    {
      "cell_type": "code",
      "metadata": {
        "id": "aXCLJkqVcdxv",
        "colab": {
          "base_uri": "https://localhost:8080/"
        },
        "outputId": "bc4ca144-6d12-4117-f3ed-a179d8995a43"
      },
      "source": [
        "! cp drive/MyDrive/Image_Classification/Dataset.zip .\n",
        "! unzip Dataset.zip -d Dataset/"
      ],
      "execution_count": null,
      "outputs": [
        {
          "output_type": "stream",
          "name": "stdout",
          "text": [
            "Archive:  Dataset.zip\n",
            "replace Dataset/Testing/2015_00401.jpg? [y]es, [n]o, [A]ll, [N]one, [r]ename: "
          ]
        }
      ]
    },
    {
      "cell_type": "code",
      "metadata": {
        "id": "Yx5wnZaHjKZx",
        "colab": {
          "base_uri": "https://localhost:8080/"
        },
        "outputId": "c4b33f54-4313-4a19-9e0e-ecd5e67d52d1"
      },
      "source": [
        "! cp drive/MyDrive/Image_Classification/AI_Basic_Test.zip .\n",
        "! unzip AI_Basic_Test.zip -d CSV_Datset/"
      ],
      "execution_count": null,
      "outputs": [
        {
          "output_type": "stream",
          "name": "stdout",
          "text": [
            "Archive:  AI_Basic_Test.zip\n",
            "replace CSV_Datset/test_set.csv? [y]es, [n]o, [A]ll, [N]one, [r]ename: "
          ]
        }
      ]
    },
    {
      "cell_type": "code",
      "metadata": {
        "id": "RP6WkNLKePeT"
      },
      "source": [
        "import os\n",
        "import pandas as pd\n",
        "import torch\n",
        "from torch import nn as nn\n",
        "from torchvision import transforms as transforms\n",
        "from torch.utils.data import DataLoader,Dataset\n",
        "from PIL import Image\n",
        "from torchvision import models\n",
        "from tqdm import tqdm\n",
        "import math\n",
        "from matplotlib import pyplot as plt\n",
        "import numpy as np"
      ],
      "execution_count": null,
      "outputs": []
    },
    {
      "cell_type": "code",
      "metadata": {
        "id": "6ZbpzZCUczzO"
      },
      "source": [
        "def prepare_dataset(dataset_type):\n",
        "  list_class_dir = os.listdir(f\"Dataset/{str(dataset_type)}\")\n",
        "  dataset = []\n",
        "  class_dict = {folder :index for index,folder in enumerate(list_class_dir)}\n",
        "  extension = set()\n",
        "  for folder in list_class_dir:\n",
        "    class_path = os.path.join(\"Dataset/Training\" , folder)\n",
        "    images_path = os.listdir(class_path)\n",
        "    for image in images_path:\n",
        "      extension.add(image.split(\".\")[1])\n",
        "      dataset.append(dict(\n",
        "          image_path = os.path.join(class_path,image),\n",
        "          class_name = class_dict[folder]\n",
        "      ))\n",
        "  dataset = pd.DataFrame(dataset,columns=[\"image_path\",\"class_name\"])\n",
        "  return dataset\n",
        "training_dataset = prepare_dataset(\"Training\")\n",
        "validation_dataset = prepare_dataset(\"Validation\")\n",
        "# this will return the csv file of training and validation dataset, which contains two column(class name, image path)"
      ],
      "execution_count": null,
      "outputs": []
    },
    {
      "cell_type": "code",
      "metadata": {
        "id": "kStuC42wgjVr"
      },
      "source": [
        "# this section is used to prepare the data in batch to train the model\n",
        "class ImageDataset(Dataset):\n",
        "  def __init__(self,metadata,transforms = None):\n",
        "    super(ImageDataset,self).__init__()\n",
        "    self.metadata = metadata # load the csv file \n",
        "    self.length = self.metadata.shape[0] # return the length of data\n",
        "    self.transforms = transforms # this is tranfroms the image to into tensor\n",
        "  \n",
        "  def __len__(self):\n",
        "    return self.length\n",
        "  \n",
        "  def __getitem__(self,index):\n",
        "    data = self.metadata.iloc[index] # based on the given index it will extract the data from metadata\n",
        "    image = Image.open(data[\"image_path\"]).convert(\"RGB\") # reading the image\n",
        "    label = data[\"class_name\"] # reading the class\n",
        "    if self.transforms != None:\n",
        "      image = self.transforms(image) # transfors the image \n",
        "    label = torch.tensor(label) #convert the label into tensor\n",
        "    return image , label\n",
        "def get_dataloader(dataset):\n",
        "  transform_list = transforms.Compose([\n",
        "              transforms.ToTensor(),# convert the data into tensor\n",
        "              transforms.Normalize(mean = [0.485, 0.456, 0.406], std = [0.229, 0.224, 0.225]), # normalize the image\n",
        "              transforms.Resize((128,128)) # resize the image\n",
        "  ])\n",
        "  image_dataset = ImageDataset(dataset,transform_list) # prepare the image dataset\n",
        "  dataloader = DataLoader(dataset = image_dataset , batch_size =32,shuffle = True) # prepare the image dataset into batch\n",
        "  return dataloader\n",
        "training_dataloader = get_dataloader(training_dataset) # training batch wise dataset\n",
        "validation_dataloader = get_dataloader(validation_dataset) # validation batch wise dataset"
      ],
      "execution_count": null,
      "outputs": []
    },
    {
      "cell_type": "code",
      "metadata": {
        "id": "BCGuwuBCqoI-"
      },
      "source": [
        "class ImageClassification(nn.Module):\n",
        "  def __init__(self,num_class):\n",
        "    super(ImageClassification,self).__init__()\n",
        "    # input is (no_batch,3,128,128)\n",
        "    model = models.resnet50(pretrained=True,progress=True) # resnet-50 pretrained model\n",
        "    # (n_batch , 3, 1000)\n",
        "    model = nn.Sequential(*(list(model.children()))[:-1]) # removing the last linear layer\n",
        "    # (n_batch , 3, 2048)\n",
        "    self.pretrained = model\n",
        "    self.final = nn.Sequential(\n",
        "        nn.Linear(2048 , 512), # (n_batch , 512)\n",
        "        nn.BatchNorm1d(512), # (n_batch , 512)\n",
        "        nn.Dropout(0.5), # applying of probability 0.5\n",
        "        nn.ReLU(), # Applying Rectified Linear Uniit \n",
        "        # relu(x) = f(x) = max(0,x)\n",
        "        nn.Linear(512 , num_class), # (n_batch , 6)\n",
        "        nn.Softmax() # apply soft to get probability distribution of each sample\n",
        "    ) \n",
        "    self.final_layer_weight_initialization() # 2weight initialization\n",
        "  def forward(self,x):\n",
        "    # x = (n_image , 3 , 256 , 256)\n",
        "    x = self.pretrained(x) # (n_image , 2048 , 1 , 1)\n",
        "    x = x.view(x.shape[0],x.shape[1]) # (n_image , 2048)\n",
        "    x = self.final(x) # (n_image , 6)\n",
        "    return x\n",
        "\n",
        "  def final_layer_weight_initialization(self):\n",
        "    for m in self.final.modules():\n",
        "      if isinstance(m , nn.Linear):\n",
        "        nn.init.kaiming_normal_(m.weight,1)\n",
        "        nn.init.constant_(m.bias,0)\n",
        "      if isinstance(m , nn.BatchNorm1d):\n",
        "        nn.init.normal_(m.weight.data, 1.0, 0.02)\n",
        "        nn.init.constant_(m.bias.data, 0.0)\n",
        "\n"
      ],
      "execution_count": null,
      "outputs": []
    },
    {
      "cell_type": "code",
      "metadata": {
        "id": "hahUv1ytszhK",
        "colab": {
          "base_uri": "https://localhost:8080/",
          "height": 1000,
          "referenced_widgets": [
            "dd814da10bc3494a8128e712b708592a",
            "335b31a3566640b1a0ca2a0f081cce91",
            "f5586fa6ea484e3c9d87d7e995aec48a",
            "58f693ca877848b3926aee5c11820114",
            "95423b9cd6aa41fcbb29c826e68f2b04",
            "8393d950685d4bf18106307ebea8438e",
            "58328f2578d5455a9326363f3dfd91fe",
            "b17f972373b240d0abf7c69b93b533be",
            "20254a76dd0b4d3dafd716733dc7d552",
            "6099520d2e0943d4b9b19b3a7d8c89a2",
            "43b9740510674027986b901b3638c4aa"
          ]
        },
        "outputId": "2f640fb7-1b18-47f4-d335-da5f422198de"
      },
      "source": [
        "n_epochs = 5 # no of epochs\n",
        "batch_size = 32 # batch size\n",
        "device = torch.device(\"cuda\" if torch.cuda.is_available() else \"cpu\") #find the device\n",
        "model = ImageClassification(6).to(device) # intializing the model\n",
        "# cretaing optimizer , Adam(paremetric optimizer)\n",
        "optimizer = torch.optim.Adam(params = model.parameters() , lr = 0.0001, \n",
        "                             betas = (0.9 , 0.99),weight_decay = 0.001)\n",
        "loss_function = torch.nn.CrossEntropyLoss() # using Cross entropy loss function\n",
        "epoch_loss = []\n",
        "epoch_val_acc = []\n",
        "################# Traing####################\n",
        "for epoch in range(n_epochs):\n",
        "  total_loss = 0.0\n",
        "  for batch_idx ,(image,label) in tqdm(enumerate(training_dataloader)):\n",
        "    image = image.to(device)\n",
        "    label = label.to(device)\n",
        "    prediction = model(image) # forward pass\n",
        "    loss = loss_function(prediction , label) # calculating loss\n",
        "    optimizer.zero_grad() # creating gradient from previous batch\n",
        "    loss.backward() # backward pass\n",
        "    optimizer.step() # updating the weight and bias\n",
        "    total_loss += (loss.item() / batch_size)\n",
        "    if batch_idx % 5 == 0:\n",
        "      print(f\"EPOCH : {epoch+1} | {n_epochs} , BATCH: {batch_idx}|{len(training_dataloader)} , loss : {total_loss / (batch_idx+1)}\")\n",
        "  #############claculating the validation accuracy############\n",
        "  with torch.no_grad():\n",
        "    count = 0\n",
        "    for batch_idx ,(image,label) in tqdm(enumerate(validation_dataloader)):\n",
        "      image = image.to(device)\n",
        "      label = label.tolist()\n",
        "      pred_prob = model(image)\n",
        "      predicted_label = torch.argmax(pred_prob,dim = 1).tolist()\n",
        "      for gt,pred in zip(label,predicted_label):\n",
        "        if (gt == pred):\n",
        "          count += 1\n",
        "      if batch_idx % 5 == 0:\n",
        "        print(f\"EPOCH : {epoch+1} | {n_epochs} , BATCH : {batch_idx}|{len(validation_dataloader)}\")\n",
        "    print(f\"Validation accuracy : {(count / len(validation_dataset))*100}\")\n",
        "    epoch_loss.append(total_loss)\n",
        "    epoch_val_acc.append((count / len(validation_dataset))*100)\n",
        "# # saving the model\n",
        "torch.save(model.state_dict(),\"drive/MyDrive/Image_Classification/model.pth\") "
      ],
      "execution_count": null,
      "outputs": [
        {
          "output_type": "stream",
          "name": "stderr",
          "text": [
            "Downloading: \"https://download.pytorch.org/models/resnet50-0676ba61.pth\" to /root/.cache/torch/hub/checkpoints/resnet50-0676ba61.pth\n"
          ]
        },
        {
          "output_type": "display_data",
          "data": {
            "application/vnd.jupyter.widget-view+json": {
              "model_id": "dd814da10bc3494a8128e712b708592a",
              "version_minor": 0,
              "version_major": 2
            },
            "text/plain": [
              "  0%|          | 0.00/97.8M [00:00<?, ?B/s]"
            ]
          },
          "metadata": {}
        },
        {
          "output_type": "stream",
          "name": "stderr",
          "text": [
            "\r0it [00:00, ?it/s]/usr/local/lib/python3.7/dist-packages/torch/nn/functional.py:718: UserWarning: Named tensors and all their associated APIs are an experimental feature and subject to change. Please do not use them for anything important until they are released as stable. (Triggered internally at  /pytorch/c10/core/TensorImpl.h:1156.)\n",
            "  return torch.max_pool2d(input, kernel_size, stride, padding, dilation, ceil_mode)\n",
            "/usr/local/lib/python3.7/dist-packages/torch/nn/modules/container.py:139: UserWarning: Implicit dimension choice for softmax has been deprecated. Change the call to include dim=X as an argument.\n",
            "  input = module(input)\n",
            "1it [00:01,  1.03s/it]"
          ]
        },
        {
          "output_type": "stream",
          "name": "stdout",
          "text": [
            "EPOCH : 1 | 5 , BATCH: 0|45 , loss : 0.056180160492658615\n"
          ]
        },
        {
          "output_type": "stream",
          "name": "stderr",
          "text": [
            "6it [00:05,  1.22it/s]"
          ]
        },
        {
          "output_type": "stream",
          "name": "stdout",
          "text": [
            "EPOCH : 1 | 5 , BATCH: 5|45 , loss : 0.055453818291425705\n"
          ]
        },
        {
          "output_type": "stream",
          "name": "stderr",
          "text": [
            "11it [00:08,  1.35it/s]"
          ]
        },
        {
          "output_type": "stream",
          "name": "stdout",
          "text": [
            "EPOCH : 1 | 5 , BATCH: 10|45 , loss : 0.05429061231288043\n"
          ]
        },
        {
          "output_type": "stream",
          "name": "stderr",
          "text": [
            "16it [00:12,  1.37it/s]"
          ]
        },
        {
          "output_type": "stream",
          "name": "stdout",
          "text": [
            "EPOCH : 1 | 5 , BATCH: 15|45 , loss : 0.053581695538014174\n"
          ]
        },
        {
          "output_type": "stream",
          "name": "stderr",
          "text": [
            "21it [00:16,  1.35it/s]"
          ]
        },
        {
          "output_type": "stream",
          "name": "stdout",
          "text": [
            "EPOCH : 1 | 5 , BATCH: 20|45 , loss : 0.05268597336752074\n"
          ]
        },
        {
          "output_type": "stream",
          "name": "stderr",
          "text": [
            "26it [00:20,  1.35it/s]"
          ]
        },
        {
          "output_type": "stream",
          "name": "stdout",
          "text": [
            "EPOCH : 1 | 5 , BATCH: 25|45 , loss : 0.05207208142830776\n"
          ]
        },
        {
          "output_type": "stream",
          "name": "stderr",
          "text": [
            "31it [00:24,  1.37it/s]"
          ]
        },
        {
          "output_type": "stream",
          "name": "stdout",
          "text": [
            "EPOCH : 1 | 5 , BATCH: 30|45 , loss : 0.051503461575315844\n"
          ]
        },
        {
          "output_type": "stream",
          "name": "stderr",
          "text": [
            "36it [00:27,  1.42it/s]"
          ]
        },
        {
          "output_type": "stream",
          "name": "stdout",
          "text": [
            "EPOCH : 1 | 5 , BATCH: 35|45 , loss : 0.05103283189237118\n"
          ]
        },
        {
          "output_type": "stream",
          "name": "stderr",
          "text": [
            "41it [00:31,  1.29it/s]"
          ]
        },
        {
          "output_type": "stream",
          "name": "stdout",
          "text": [
            "EPOCH : 1 | 5 , BATCH: 40|45 , loss : 0.050491187358047904\n"
          ]
        },
        {
          "output_type": "stream",
          "name": "stderr",
          "text": [
            "45it [00:34,  1.30it/s]\n",
            "1it [00:00,  1.99it/s]"
          ]
        },
        {
          "output_type": "stream",
          "name": "stdout",
          "text": [
            "EPOCH : 1 | 5 , BATCH : 0|45\n"
          ]
        },
        {
          "output_type": "stream",
          "name": "stderr",
          "text": [
            "6it [00:03,  1.97it/s]"
          ]
        },
        {
          "output_type": "stream",
          "name": "stdout",
          "text": [
            "EPOCH : 1 | 5 , BATCH : 5|45\n"
          ]
        },
        {
          "output_type": "stream",
          "name": "stderr",
          "text": [
            "11it [00:06,  1.57it/s]"
          ]
        },
        {
          "output_type": "stream",
          "name": "stdout",
          "text": [
            "EPOCH : 1 | 5 , BATCH : 10|45\n"
          ]
        },
        {
          "output_type": "stream",
          "name": "stderr",
          "text": [
            "16it [00:09,  1.47it/s]"
          ]
        },
        {
          "output_type": "stream",
          "name": "stdout",
          "text": [
            "EPOCH : 1 | 5 , BATCH : 15|45\n"
          ]
        },
        {
          "output_type": "stream",
          "name": "stderr",
          "text": [
            "21it [00:12,  1.76it/s]"
          ]
        },
        {
          "output_type": "stream",
          "name": "stdout",
          "text": [
            "EPOCH : 1 | 5 , BATCH : 20|45\n"
          ]
        },
        {
          "output_type": "stream",
          "name": "stderr",
          "text": [
            "26it [00:15,  1.65it/s]"
          ]
        },
        {
          "output_type": "stream",
          "name": "stdout",
          "text": [
            "EPOCH : 1 | 5 , BATCH : 25|45\n"
          ]
        },
        {
          "output_type": "stream",
          "name": "stderr",
          "text": [
            "31it [00:17,  1.88it/s]"
          ]
        },
        {
          "output_type": "stream",
          "name": "stdout",
          "text": [
            "EPOCH : 1 | 5 , BATCH : 30|45\n"
          ]
        },
        {
          "output_type": "stream",
          "name": "stderr",
          "text": [
            "36it [00:20,  1.95it/s]"
          ]
        },
        {
          "output_type": "stream",
          "name": "stdout",
          "text": [
            "EPOCH : 1 | 5 , BATCH : 35|45\n"
          ]
        },
        {
          "output_type": "stream",
          "name": "stderr",
          "text": [
            "41it [00:22,  2.07it/s]"
          ]
        },
        {
          "output_type": "stream",
          "name": "stdout",
          "text": [
            "EPOCH : 1 | 5 , BATCH : 40|45\n"
          ]
        },
        {
          "output_type": "stream",
          "name": "stderr",
          "text": [
            "45it [00:25,  1.78it/s]\n"
          ]
        },
        {
          "output_type": "stream",
          "name": "stdout",
          "text": [
            "Validation accuracy : 72.43055555555556\n"
          ]
        },
        {
          "output_type": "stream",
          "name": "stderr",
          "text": [
            "1it [00:00,  1.25it/s]"
          ]
        },
        {
          "output_type": "stream",
          "name": "stdout",
          "text": [
            "EPOCH : 2 | 5 , BATCH: 0|45 , loss : 0.041480254381895065\n"
          ]
        },
        {
          "output_type": "stream",
          "name": "stderr",
          "text": [
            "6it [00:04,  1.31it/s]"
          ]
        },
        {
          "output_type": "stream",
          "name": "stdout",
          "text": [
            "EPOCH : 2 | 5 , BATCH: 5|45 , loss : 0.04212097326914469\n"
          ]
        },
        {
          "output_type": "stream",
          "name": "stderr",
          "text": [
            "11it [00:08,  1.35it/s]"
          ]
        },
        {
          "output_type": "stream",
          "name": "stdout",
          "text": [
            "EPOCH : 2 | 5 , BATCH: 10|45 , loss : 0.04246266524900089\n"
          ]
        },
        {
          "output_type": "stream",
          "name": "stderr",
          "text": [
            "16it [00:12,  1.34it/s]"
          ]
        },
        {
          "output_type": "stream",
          "name": "stdout",
          "text": [
            "EPOCH : 2 | 5 , BATCH: 15|45 , loss : 0.04191272263415158\n"
          ]
        },
        {
          "output_type": "stream",
          "name": "stderr",
          "text": [
            "21it [00:15,  1.43it/s]"
          ]
        },
        {
          "output_type": "stream",
          "name": "stdout",
          "text": [
            "EPOCH : 2 | 5 , BATCH: 20|45 , loss : 0.04192374309613591\n"
          ]
        },
        {
          "output_type": "stream",
          "name": "stderr",
          "text": [
            "26it [00:19,  1.17it/s]"
          ]
        },
        {
          "output_type": "stream",
          "name": "stdout",
          "text": [
            "EPOCH : 2 | 5 , BATCH: 25|45 , loss : 0.04188021415701279\n"
          ]
        },
        {
          "output_type": "stream",
          "name": "stderr",
          "text": [
            "31it [00:23,  1.14it/s]"
          ]
        },
        {
          "output_type": "stream",
          "name": "stdout",
          "text": [
            "EPOCH : 2 | 5 , BATCH: 30|45 , loss : 0.04184385220850668\n"
          ]
        },
        {
          "output_type": "stream",
          "name": "stderr",
          "text": [
            "36it [00:27,  1.33it/s]"
          ]
        },
        {
          "output_type": "stream",
          "name": "stdout",
          "text": [
            "EPOCH : 2 | 5 , BATCH: 35|45 , loss : 0.041726240474316806\n"
          ]
        },
        {
          "output_type": "stream",
          "name": "stderr",
          "text": [
            "41it [00:31,  1.24it/s]"
          ]
        },
        {
          "output_type": "stream",
          "name": "stdout",
          "text": [
            "EPOCH : 2 | 5 , BATCH: 40|45 , loss : 0.04144843022634343\n"
          ]
        },
        {
          "output_type": "stream",
          "name": "stderr",
          "text": [
            "45it [00:34,  1.31it/s]\n",
            "1it [00:00,  1.87it/s]"
          ]
        },
        {
          "output_type": "stream",
          "name": "stdout",
          "text": [
            "EPOCH : 2 | 5 , BATCH : 0|45\n"
          ]
        },
        {
          "output_type": "stream",
          "name": "stderr",
          "text": [
            "6it [00:03,  1.98it/s]"
          ]
        },
        {
          "output_type": "stream",
          "name": "stdout",
          "text": [
            "EPOCH : 2 | 5 , BATCH : 5|45\n"
          ]
        },
        {
          "output_type": "stream",
          "name": "stderr",
          "text": [
            "11it [00:05,  1.89it/s]"
          ]
        },
        {
          "output_type": "stream",
          "name": "stdout",
          "text": [
            "EPOCH : 2 | 5 , BATCH : 10|45\n"
          ]
        },
        {
          "output_type": "stream",
          "name": "stderr",
          "text": [
            "16it [00:08,  2.04it/s]"
          ]
        },
        {
          "output_type": "stream",
          "name": "stdout",
          "text": [
            "EPOCH : 2 | 5 , BATCH : 15|45\n"
          ]
        },
        {
          "output_type": "stream",
          "name": "stderr",
          "text": [
            "21it [00:11,  1.89it/s]"
          ]
        },
        {
          "output_type": "stream",
          "name": "stdout",
          "text": [
            "EPOCH : 2 | 5 , BATCH : 20|45\n"
          ]
        },
        {
          "output_type": "stream",
          "name": "stderr",
          "text": [
            "26it [00:14,  1.61it/s]"
          ]
        },
        {
          "output_type": "stream",
          "name": "stdout",
          "text": [
            "EPOCH : 2 | 5 , BATCH : 25|45\n"
          ]
        },
        {
          "output_type": "stream",
          "name": "stderr",
          "text": [
            "31it [00:17,  1.62it/s]"
          ]
        },
        {
          "output_type": "stream",
          "name": "stdout",
          "text": [
            "EPOCH : 2 | 5 , BATCH : 30|45\n"
          ]
        },
        {
          "output_type": "stream",
          "name": "stderr",
          "text": [
            "36it [00:20,  1.77it/s]"
          ]
        },
        {
          "output_type": "stream",
          "name": "stdout",
          "text": [
            "EPOCH : 2 | 5 , BATCH : 35|45\n"
          ]
        },
        {
          "output_type": "stream",
          "name": "stderr",
          "text": [
            "41it [00:23,  1.89it/s]"
          ]
        },
        {
          "output_type": "stream",
          "name": "stdout",
          "text": [
            "EPOCH : 2 | 5 , BATCH : 40|45\n"
          ]
        },
        {
          "output_type": "stream",
          "name": "stderr",
          "text": [
            "45it [00:25,  1.77it/s]\n"
          ]
        },
        {
          "output_type": "stream",
          "name": "stdout",
          "text": [
            "Validation accuracy : 86.94444444444444\n"
          ]
        },
        {
          "output_type": "stream",
          "name": "stderr",
          "text": [
            "1it [00:00,  1.11it/s]"
          ]
        },
        {
          "output_type": "stream",
          "name": "stdout",
          "text": [
            "EPOCH : 3 | 5 , BATCH: 0|45 , loss : 0.03540687635540962\n"
          ]
        },
        {
          "output_type": "stream",
          "name": "stderr",
          "text": [
            "6it [00:04,  1.33it/s]"
          ]
        },
        {
          "output_type": "stream",
          "name": "stdout",
          "text": [
            "EPOCH : 3 | 5 , BATCH: 5|45 , loss : 0.03678432727853457\n"
          ]
        },
        {
          "output_type": "stream",
          "name": "stderr",
          "text": [
            "11it [00:08,  1.35it/s]"
          ]
        },
        {
          "output_type": "stream",
          "name": "stdout",
          "text": [
            "EPOCH : 3 | 5 , BATCH: 10|45 , loss : 0.03709390353072773\n"
          ]
        },
        {
          "output_type": "stream",
          "name": "stderr",
          "text": [
            "16it [00:12,  1.24it/s]"
          ]
        },
        {
          "output_type": "stream",
          "name": "stdout",
          "text": [
            "EPOCH : 3 | 5 , BATCH: 15|45 , loss : 0.03714579530060291\n"
          ]
        },
        {
          "output_type": "stream",
          "name": "stderr",
          "text": [
            "21it [00:16,  1.38it/s]"
          ]
        },
        {
          "output_type": "stream",
          "name": "stdout",
          "text": [
            "EPOCH : 3 | 5 , BATCH: 20|45 , loss : 0.0372790280906927\n"
          ]
        },
        {
          "output_type": "stream",
          "name": "stderr",
          "text": [
            "26it [00:19,  1.49it/s]"
          ]
        },
        {
          "output_type": "stream",
          "name": "stdout",
          "text": [
            "EPOCH : 3 | 5 , BATCH: 25|45 , loss : 0.03736693970859051\n"
          ]
        },
        {
          "output_type": "stream",
          "name": "stderr",
          "text": [
            "31it [00:23,  1.33it/s]"
          ]
        },
        {
          "output_type": "stream",
          "name": "stdout",
          "text": [
            "EPOCH : 3 | 5 , BATCH: 30|45 , loss : 0.0372762392845846\n"
          ]
        },
        {
          "output_type": "stream",
          "name": "stderr",
          "text": [
            "36it [00:26,  1.42it/s]"
          ]
        },
        {
          "output_type": "stream",
          "name": "stdout",
          "text": [
            "EPOCH : 3 | 5 , BATCH: 35|45 , loss : 0.03715129838221603\n"
          ]
        },
        {
          "output_type": "stream",
          "name": "stderr",
          "text": [
            "41it [00:30,  1.32it/s]"
          ]
        },
        {
          "output_type": "stream",
          "name": "stdout",
          "text": [
            "EPOCH : 3 | 5 , BATCH: 40|45 , loss : 0.03734334258408081\n"
          ]
        },
        {
          "output_type": "stream",
          "name": "stderr",
          "text": [
            "45it [00:34,  1.32it/s]\n",
            "1it [00:00,  1.47it/s]"
          ]
        },
        {
          "output_type": "stream",
          "name": "stdout",
          "text": [
            "EPOCH : 3 | 5 , BATCH : 0|45\n"
          ]
        },
        {
          "output_type": "stream",
          "name": "stderr",
          "text": [
            "6it [00:03,  1.89it/s]"
          ]
        },
        {
          "output_type": "stream",
          "name": "stdout",
          "text": [
            "EPOCH : 3 | 5 , BATCH : 5|45\n"
          ]
        },
        {
          "output_type": "stream",
          "name": "stderr",
          "text": [
            "11it [00:06,  1.69it/s]"
          ]
        },
        {
          "output_type": "stream",
          "name": "stdout",
          "text": [
            "EPOCH : 3 | 5 , BATCH : 10|45\n"
          ]
        },
        {
          "output_type": "stream",
          "name": "stderr",
          "text": [
            "16it [00:09,  1.59it/s]"
          ]
        },
        {
          "output_type": "stream",
          "name": "stdout",
          "text": [
            "EPOCH : 3 | 5 , BATCH : 15|45\n"
          ]
        },
        {
          "output_type": "stream",
          "name": "stderr",
          "text": [
            "21it [00:12,  1.92it/s]"
          ]
        },
        {
          "output_type": "stream",
          "name": "stdout",
          "text": [
            "EPOCH : 3 | 5 , BATCH : 20|45\n"
          ]
        },
        {
          "output_type": "stream",
          "name": "stderr",
          "text": [
            "26it [00:15,  1.80it/s]"
          ]
        },
        {
          "output_type": "stream",
          "name": "stdout",
          "text": [
            "EPOCH : 3 | 5 , BATCH : 25|45\n"
          ]
        },
        {
          "output_type": "stream",
          "name": "stderr",
          "text": [
            "31it [00:17,  1.91it/s]"
          ]
        },
        {
          "output_type": "stream",
          "name": "stdout",
          "text": [
            "EPOCH : 3 | 5 , BATCH : 30|45\n"
          ]
        },
        {
          "output_type": "stream",
          "name": "stderr",
          "text": [
            "36it [00:20,  1.88it/s]"
          ]
        },
        {
          "output_type": "stream",
          "name": "stdout",
          "text": [
            "EPOCH : 3 | 5 , BATCH : 35|45\n"
          ]
        },
        {
          "output_type": "stream",
          "name": "stderr",
          "text": [
            "41it [00:23,  1.84it/s]"
          ]
        },
        {
          "output_type": "stream",
          "name": "stdout",
          "text": [
            "EPOCH : 3 | 5 , BATCH : 40|45\n"
          ]
        },
        {
          "output_type": "stream",
          "name": "stderr",
          "text": [
            "45it [00:25,  1.76it/s]\n"
          ]
        },
        {
          "output_type": "stream",
          "name": "stdout",
          "text": [
            "Validation accuracy : 91.18055555555556\n"
          ]
        },
        {
          "output_type": "stream",
          "name": "stderr",
          "text": [
            "1it [00:00,  1.31it/s]"
          ]
        },
        {
          "output_type": "stream",
          "name": "stdout",
          "text": [
            "EPOCH : 4 | 5 , BATCH: 0|45 , loss : 0.03723704442381859\n"
          ]
        },
        {
          "output_type": "stream",
          "name": "stderr",
          "text": [
            "6it [00:04,  1.22it/s]"
          ]
        },
        {
          "output_type": "stream",
          "name": "stdout",
          "text": [
            "EPOCH : 4 | 5 , BATCH: 5|45 , loss : 0.03613388786713282\n"
          ]
        },
        {
          "output_type": "stream",
          "name": "stderr",
          "text": [
            "11it [00:08,  1.34it/s]"
          ]
        },
        {
          "output_type": "stream",
          "name": "stdout",
          "text": [
            "EPOCH : 4 | 5 , BATCH: 10|45 , loss : 0.035947325216098266\n"
          ]
        },
        {
          "output_type": "stream",
          "name": "stderr",
          "text": [
            "16it [00:12,  1.28it/s]"
          ]
        },
        {
          "output_type": "stream",
          "name": "stdout",
          "text": [
            "EPOCH : 4 | 5 , BATCH: 15|45 , loss : 0.035843684105202556\n"
          ]
        },
        {
          "output_type": "stream",
          "name": "stderr",
          "text": [
            "21it [00:16,  1.36it/s]"
          ]
        },
        {
          "output_type": "stream",
          "name": "stdout",
          "text": [
            "EPOCH : 4 | 5 , BATCH: 20|45 , loss : 0.035688718514783044\n"
          ]
        },
        {
          "output_type": "stream",
          "name": "stderr",
          "text": [
            "26it [00:20,  1.28it/s]"
          ]
        },
        {
          "output_type": "stream",
          "name": "stdout",
          "text": [
            "EPOCH : 4 | 5 , BATCH: 25|45 , loss : 0.03562866638486202\n"
          ]
        },
        {
          "output_type": "stream",
          "name": "stderr",
          "text": [
            "31it [00:23,  1.25it/s]"
          ]
        },
        {
          "output_type": "stream",
          "name": "stdout",
          "text": [
            "EPOCH : 4 | 5 , BATCH: 30|45 , loss : 0.03567183906993558\n"
          ]
        },
        {
          "output_type": "stream",
          "name": "stderr",
          "text": [
            "36it [00:27,  1.35it/s]"
          ]
        },
        {
          "output_type": "stream",
          "name": "stdout",
          "text": [
            "EPOCH : 4 | 5 , BATCH: 35|45 , loss : 0.035768426954746246\n"
          ]
        },
        {
          "output_type": "stream",
          "name": "stderr",
          "text": [
            "41it [00:31,  1.42it/s]"
          ]
        },
        {
          "output_type": "stream",
          "name": "stdout",
          "text": [
            "EPOCH : 4 | 5 , BATCH: 40|45 , loss : 0.03570108324652765\n"
          ]
        },
        {
          "output_type": "stream",
          "name": "stderr",
          "text": [
            "45it [00:34,  1.29it/s]\n",
            "1it [00:00,  1.29it/s]"
          ]
        },
        {
          "output_type": "stream",
          "name": "stdout",
          "text": [
            "EPOCH : 4 | 5 , BATCH : 0|45\n"
          ]
        },
        {
          "output_type": "stream",
          "name": "stderr",
          "text": [
            "6it [00:03,  1.86it/s]"
          ]
        },
        {
          "output_type": "stream",
          "name": "stdout",
          "text": [
            "EPOCH : 4 | 5 , BATCH : 5|45\n"
          ]
        },
        {
          "output_type": "stream",
          "name": "stderr",
          "text": [
            "11it [00:06,  1.95it/s]"
          ]
        },
        {
          "output_type": "stream",
          "name": "stdout",
          "text": [
            "EPOCH : 4 | 5 , BATCH : 10|45\n"
          ]
        },
        {
          "output_type": "stream",
          "name": "stderr",
          "text": [
            "16it [00:08,  1.96it/s]"
          ]
        },
        {
          "output_type": "stream",
          "name": "stdout",
          "text": [
            "EPOCH : 4 | 5 , BATCH : 15|45\n"
          ]
        },
        {
          "output_type": "stream",
          "name": "stderr",
          "text": [
            "21it [00:12,  1.43it/s]"
          ]
        },
        {
          "output_type": "stream",
          "name": "stdout",
          "text": [
            "EPOCH : 4 | 5 , BATCH : 20|45\n"
          ]
        },
        {
          "output_type": "stream",
          "name": "stderr",
          "text": [
            "26it [00:15,  1.66it/s]"
          ]
        },
        {
          "output_type": "stream",
          "name": "stdout",
          "text": [
            "EPOCH : 4 | 5 , BATCH : 25|45\n"
          ]
        },
        {
          "output_type": "stream",
          "name": "stderr",
          "text": [
            "31it [00:17,  1.98it/s]"
          ]
        },
        {
          "output_type": "stream",
          "name": "stdout",
          "text": [
            "EPOCH : 4 | 5 , BATCH : 30|45\n"
          ]
        },
        {
          "output_type": "stream",
          "name": "stderr",
          "text": [
            "36it [00:20,  1.85it/s]"
          ]
        },
        {
          "output_type": "stream",
          "name": "stdout",
          "text": [
            "EPOCH : 4 | 5 , BATCH : 35|45\n"
          ]
        },
        {
          "output_type": "stream",
          "name": "stderr",
          "text": [
            "41it [00:23,  1.59it/s]"
          ]
        },
        {
          "output_type": "stream",
          "name": "stdout",
          "text": [
            "EPOCH : 4 | 5 , BATCH : 40|45\n"
          ]
        },
        {
          "output_type": "stream",
          "name": "stderr",
          "text": [
            "45it [00:25,  1.76it/s]\n"
          ]
        },
        {
          "output_type": "stream",
          "name": "stdout",
          "text": [
            "Validation accuracy : 95.06944444444444\n"
          ]
        },
        {
          "output_type": "stream",
          "name": "stderr",
          "text": [
            "1it [00:00,  1.25it/s]"
          ]
        },
        {
          "output_type": "stream",
          "name": "stdout",
          "text": [
            "EPOCH : 5 | 5 , BATCH: 0|45 , loss : 0.03575332835316658\n"
          ]
        },
        {
          "output_type": "stream",
          "name": "stderr",
          "text": [
            "6it [00:04,  1.26it/s]"
          ]
        },
        {
          "output_type": "stream",
          "name": "stdout",
          "text": [
            "EPOCH : 5 | 5 , BATCH: 5|45 , loss : 0.03519232695301374\n"
          ]
        },
        {
          "output_type": "stream",
          "name": "stderr",
          "text": [
            "11it [00:08,  1.44it/s]"
          ]
        },
        {
          "output_type": "stream",
          "name": "stdout",
          "text": [
            "EPOCH : 5 | 5 , BATCH: 10|45 , loss : 0.03482574698599902\n"
          ]
        },
        {
          "output_type": "stream",
          "name": "stderr",
          "text": [
            "16it [00:12,  1.24it/s]"
          ]
        },
        {
          "output_type": "stream",
          "name": "stdout",
          "text": [
            "EPOCH : 5 | 5 , BATCH: 15|45 , loss : 0.034716402646154165\n"
          ]
        },
        {
          "output_type": "stream",
          "name": "stderr",
          "text": [
            "21it [00:15,  1.36it/s]"
          ]
        },
        {
          "output_type": "stream",
          "name": "stdout",
          "text": [
            "EPOCH : 5 | 5 , BATCH: 20|45 , loss : 0.034884490427516755\n"
          ]
        },
        {
          "output_type": "stream",
          "name": "stderr",
          "text": [
            "26it [00:19,  1.44it/s]"
          ]
        },
        {
          "output_type": "stream",
          "name": "stdout",
          "text": [
            "EPOCH : 5 | 5 , BATCH: 25|45 , loss : 0.034745364951399654\n"
          ]
        },
        {
          "output_type": "stream",
          "name": "stderr",
          "text": [
            "31it [00:23,  1.30it/s]"
          ]
        },
        {
          "output_type": "stream",
          "name": "stdout",
          "text": [
            "EPOCH : 5 | 5 , BATCH: 30|45 , loss : 0.034677995188582326\n"
          ]
        },
        {
          "output_type": "stream",
          "name": "stderr",
          "text": [
            "36it [00:27,  1.27it/s]"
          ]
        },
        {
          "output_type": "stream",
          "name": "stdout",
          "text": [
            "EPOCH : 5 | 5 , BATCH: 35|45 , loss : 0.034808592249949775\n"
          ]
        },
        {
          "output_type": "stream",
          "name": "stderr",
          "text": [
            "41it [00:30,  1.38it/s]"
          ]
        },
        {
          "output_type": "stream",
          "name": "stdout",
          "text": [
            "EPOCH : 5 | 5 , BATCH: 40|45 , loss : 0.03476365319475895\n"
          ]
        },
        {
          "output_type": "stream",
          "name": "stderr",
          "text": [
            "45it [00:34,  1.32it/s]\n",
            "1it [00:00,  1.71it/s]"
          ]
        },
        {
          "output_type": "stream",
          "name": "stdout",
          "text": [
            "EPOCH : 5 | 5 , BATCH : 0|45\n"
          ]
        },
        {
          "output_type": "stream",
          "name": "stderr",
          "text": [
            "6it [00:03,  1.55it/s]"
          ]
        },
        {
          "output_type": "stream",
          "name": "stdout",
          "text": [
            "EPOCH : 5 | 5 , BATCH : 5|45\n"
          ]
        },
        {
          "output_type": "stream",
          "name": "stderr",
          "text": [
            "11it [00:06,  1.97it/s]"
          ]
        },
        {
          "output_type": "stream",
          "name": "stdout",
          "text": [
            "EPOCH : 5 | 5 , BATCH : 10|45\n"
          ]
        },
        {
          "output_type": "stream",
          "name": "stderr",
          "text": [
            "16it [00:08,  1.68it/s]"
          ]
        },
        {
          "output_type": "stream",
          "name": "stdout",
          "text": [
            "EPOCH : 5 | 5 , BATCH : 15|45\n"
          ]
        },
        {
          "output_type": "stream",
          "name": "stderr",
          "text": [
            "21it [00:11,  1.88it/s]"
          ]
        },
        {
          "output_type": "stream",
          "name": "stdout",
          "text": [
            "EPOCH : 5 | 5 , BATCH : 20|45\n"
          ]
        },
        {
          "output_type": "stream",
          "name": "stderr",
          "text": [
            "26it [00:14,  1.52it/s]"
          ]
        },
        {
          "output_type": "stream",
          "name": "stdout",
          "text": [
            "EPOCH : 5 | 5 , BATCH : 25|45\n"
          ]
        },
        {
          "output_type": "stream",
          "name": "stderr",
          "text": [
            "31it [00:17,  1.83it/s]"
          ]
        },
        {
          "output_type": "stream",
          "name": "stdout",
          "text": [
            "EPOCH : 5 | 5 , BATCH : 30|45\n"
          ]
        },
        {
          "output_type": "stream",
          "name": "stderr",
          "text": [
            "36it [00:20,  1.75it/s]"
          ]
        },
        {
          "output_type": "stream",
          "name": "stdout",
          "text": [
            "EPOCH : 5 | 5 , BATCH : 35|45\n"
          ]
        },
        {
          "output_type": "stream",
          "name": "stderr",
          "text": [
            "41it [00:23,  1.84it/s]"
          ]
        },
        {
          "output_type": "stream",
          "name": "stdout",
          "text": [
            "EPOCH : 5 | 5 , BATCH : 40|45\n"
          ]
        },
        {
          "output_type": "stream",
          "name": "stderr",
          "text": [
            "45it [00:25,  1.78it/s]\n"
          ]
        },
        {
          "output_type": "stream",
          "name": "stdout",
          "text": [
            "Validation accuracy : 96.25\n"
          ]
        }
      ]
    },
    {
      "cell_type": "code",
      "metadata": {
        "id": "zyINU037J1Uj"
      },
      "source": [
        "#### saving the analysis\n",
        "import pickle\n",
        "# with open(\"drive/MyDrive/result\" , \"wb\") as file_name:\n",
        "#   pickle.dump(dict(epoch = range(5),training_loss = epoch_loss,val_acc = epoch_val_acc),file_name)\n",
        "with open(\"drive/MyDrive/Image_Classification/result\" , \"rb\") as file_name:\n",
        "  data = pickle.load(file_name)\n",
        "epoch = range(5)\n",
        "epoch_loss = data[\"training_loss\"]\n",
        "epoch_val_acc = data[\"val_acc\"]"
      ],
      "execution_count": null,
      "outputs": []
    },
    {
      "cell_type": "code",
      "metadata": {
        "colab": {
          "base_uri": "https://localhost:8080/"
        },
        "id": "Wd4rzsFNa1tr",
        "outputId": "001047d1-fe34-48d1-d45f-cec834ffe3a0"
      },
      "source": [
        "device = torch.device(\"cuda\" if torch.cuda.is_available() else \"cpu\") #find the device\n",
        "model = ImageClassification(6).to(device) # model initialize \n",
        "model.load_state_dict(torch.load(\"drive/MyDrive/Image_Classification/model.pth\",map_location=device)) # pretrained model laod"
      ],
      "execution_count": null,
      "outputs": [
        {
          "output_type": "execute_result",
          "data": {
            "text/plain": [
              "<All keys matched successfully>"
            ]
          },
          "metadata": {},
          "execution_count": 14
        }
      ]
    },
    {
      "cell_type": "code",
      "metadata": {
        "id": "nL_8ZjQX3QEF",
        "colab": {
          "base_uri": "https://localhost:8080/",
          "height": 295
        },
        "outputId": "782b5cd8-fbd1-4397-f69f-9e377e43f9f1"
      },
      "source": [
        "plt.plot(epoch,epoch_loss,label = \"Training Loss\", color = \"red\")\n",
        "plt.xlabel(\"No of Epochs\")\n",
        "plt.ylabel(\"Training Loss\")\n",
        "plt.title(\"Epoch wise Training loss\")\n",
        "plt.legend()\n",
        "plt.show()"
      ],
      "execution_count": null,
      "outputs": [
        {
          "output_type": "display_data",
          "data": {
            "image/png": "[encoded data removed]",
            "text/plain": [
              "<Figure size 432x288 with 1 Axes>"
            ]
          },
          "metadata": {
            "needs_background": "light"
          }
        }
      ]
    },
    {
      "cell_type": "code",
      "metadata": {
        "id": "lNalO2c_JDIO",
        "colab": {
          "base_uri": "https://localhost:8080/",
          "height": 295
        },
        "outputId": "8d09f4fc-ec0a-4e4b-ca4e-d357ee827fff"
      },
      "source": [
        "plt.plot(epoch,epoch_val_acc,label = \"validation accuracy\" , color = \"green\")\n",
        "plt.xlabel(\"No of Epochs\")\n",
        "plt.ylabel(\"validation accuracy\")\n",
        "plt.title(\"Epoch wise validation accuracy\")\n",
        "plt.legend()\n",
        "plt.show()"
      ],
      "execution_count": null,
      "outputs": [
        {
          "output_type": "display_data",
          "data": {
            "image/png": "[encoded data removed]",
            "text/plain": [
              "<Figure size 432x288 with 1 Axes>"
            ]
          },
          "metadata": {
            "needs_background": "light"
          }
        }
      ]
    },
    {
      "cell_type": "code",
      "metadata": {
        "id": "yde2GVkHJppv"
      },
      "source": [
        "class TestingDataset(Dataset):\n",
        "  def __init__(self,metadata,transform):\n",
        "    self.metadata = pd.read_csv(metadata)\n",
        "    self.len = self.metadata.shape[0]\n",
        "    self.transform = transform\n",
        "  \n",
        "  def __len__(self):\n",
        "    return self.len\n",
        "  \n",
        "  def __getitem__(self,index):\n",
        "    image = os.path.join(\"Dataset\",self.metadata.iloc[index][\"Image_Path\"])\n",
        "    image = Image.open(image).convert(\"RGB\")\n",
        "    image = self.transform(image)\n",
        "    return image\n",
        "\n",
        "transform_list = transforms.Compose([\n",
        "              transforms.ToTensor(),# convert the data into tensor\n",
        "              transforms.Normalize(mean = [0.485, 0.456, 0.406], std = [0.229, 0.224, 0.225]), # normalize the image\n",
        "              transforms.Resize((128,128)) # resize the image\n",
        "  ])\n",
        "image_dataset = TestingDataset(metadata = \"CSV_Datset/test_set.csv\",transform = transform_list)\n",
        "test_dataloader = DataLoader(dataset = image_dataset,batch_size = 32,shuffle = False)\n"
      ],
      "execution_count": null,
      "outputs": []
    },
    {
      "cell_type": "code",
      "metadata": {
        "colab": {
          "base_uri": "https://localhost:8080/"
        },
        "id": "vN6cKRzZov9S",
        "outputId": "a0f0a560-cdd9-4cae-f95e-bc85aa33baf2"
      },
      "source": [
        "predict = []\n",
        "with torch.no_grad():\n",
        "  count = 0\n",
        "  for batch_idx ,(image) in tqdm(enumerate(test_dataloader)):\n",
        "    image = image.to(device)\n",
        "    pred_prob = model(image) # predict probability\n",
        "    predicted_label = torch.argmax(pred_prob,dim = 1).tolist() # select highest probability\n",
        "    predict.extend(predicted_label)"
      ],
      "execution_count": null,
      "outputs": [
        {
          "output_type": "stream",
          "name": "stderr",
          "text": [
            "0it [00:00, ?it/s]/usr/local/lib/python3.7/dist-packages/torch/nn/modules/container.py:139: UserWarning: Implicit dimension choice for softmax has been deprecated. Change the call to include dim=X as an argument.\n",
            "  input = module(input)\n",
            "15it [00:22,  1.52s/it]\n"
          ]
        }
      ]
    },
    {
      "cell_type": "code",
      "metadata": {
        "id": "pwGIkIX_pXsp"
      },
      "source": [
        "### Load to CSV file\n",
        "test_data = pd.read_csv(\"CSV_Datset/test_set.csv\")\n",
        "test_data[\"Class\"] = predict\n",
        "test_data.to_csv(\"Test_data.csv\")"
      ],
      "execution_count": null,
      "outputs": []
    },
    {
      "cell_type": "code",
      "metadata": {
        "colab": {
          "base_uri": "https://localhost:8080/",
          "height": 287
        },
        "id": "pU4_WreVpzgM",
        "outputId": "ef794d02-7aaa-4cf4-87cc-d1d983498f59"
      },
      "source": [
        "## Showing the result for testing data\n",
        "list_class_dir = os.listdir(f\"Dataset/Training\")\n",
        "dataset = []\n",
        "class_dict = {index :folder for index,folder in enumerate(list_class_dir)}\n",
        "index = 10\n",
        "image_path = os.path.join(\"Dataset\",test_data.iloc[index][\"Image_Path\"])\n",
        "image = np.array(Image.open(image_path))\n",
        "plt.imshow(image)\n",
        "plt.show()\n",
        "class_dict[int(test_data.iloc[index][\"Class\"])]"
      ],
      "execution_count": null,
      "outputs": [
        {
          "output_type": "display_data",
          "data": {
            "image/png": "[encoded data removed]",
            "text/plain": [
              "<Figure size 432x288 with 1 Axes>"
            ]
          },
          "metadata": {
            "needs_background": "light"
          }
        },
        {
          "output_type": "execute_result",
          "data": {
            "application/vnd.google.colaboratory.intrinsic+json": {
              "type": "string"
            },
            "text/plain": [
              "'Boat'"
            ]
          },
          "metadata": {},
          "execution_count": 23
        }
      ]
    },
    {
      "cell_type": "code",
      "metadata": {
        "id": "PM4MwNkQrdOG"
      },
      "source": [
        ""
      ],
      "execution_count": null,
      "outputs": []
    }
  ]
}